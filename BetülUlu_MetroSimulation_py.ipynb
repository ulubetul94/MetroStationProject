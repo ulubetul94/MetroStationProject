{
  "nbformat": 4,
  "nbformat_minor": 0,
  "metadata": {
    "colab": {
      "provenance": [],
      "authorship_tag": "ABX9TyMdnvem+J45ODL5bguznKO+",
      "include_colab_link": true
    },
    "kernelspec": {
      "name": "python3",
      "display_name": "Python 3"
    },
    "language_info": {
      "name": "python"
    }
  },
  "cells": [
    {
      "cell_type": "markdown",
      "metadata": {
        "id": "view-in-github",
        "colab_type": "text"
      },
      "source": [
        "<a href=\"https://colab.research.google.com/github/ulubetul94/MetroStationProject/blob/main/Bet%C3%BClUlu_MetroSimulation_py.ipynb\" target=\"_parent\"><img src=\"https://colab.research.google.com/assets/colab-badge.svg\" alt=\"Open In Colab\"/></a>"
      ]
    },
    {
      "cell_type": "code",
      "source": [
        "from collections import defaultdict, deque\n",
        "import heapq\n",
        "from typing import Dict, List, Set, Tuple, Optional"
      ],
      "metadata": {
        "id": "8NiLB1ueYafZ"
      },
      "execution_count": 82,
      "outputs": []
    },
    {
      "cell_type": "code",
      "source": [
        "class Istasyon:\n",
        "    def __init__(self, idx: str, ad: str, hat: str):\n",
        "        self.idx = idx\n",
        "        self.ad = ad\n",
        "        self.hat = hat\n",
        "        self.komsular: List[Tuple['Istasyon', int]] = []  # (istasyon, süre) tuple'ları\n",
        "\n",
        "    def komsu_ekle(self, istasyon: 'Istasyon', sure: int):\n",
        "        self.komsular.append((istasyon, sure))"
      ],
      "metadata": {
        "id": "WXH2jE4xYddf"
      },
      "execution_count": 83,
      "outputs": []
    },
    {
      "cell_type": "markdown",
      "source": [],
      "metadata": {
        "id": "MCaESmWWeUdf"
      }
    },
    {
      "cell_type": "markdown",
      "source": [
        "Metro istasyonlarını temsil eden sınıf.\n",
        "        idx: İstasyon kimliği\n",
        "        ad: İstasyon adı\n",
        "        hat: Bulunduğu metro hattı"
      ],
      "metadata": {
        "id": "n-ER8kC3YsG4"
      }
    },
    {
      "cell_type": "code",
      "source": [
        "class MetroAgi:\n",
        "    def __init__(self):\n",
        "        self.istasyonlar: Dict[str, Istasyon] = {}\n",
        "        self.hatlar: Dict[str, List[Istasyon]] = defaultdict(list)\n",
        "\n",
        "    def istasyon_ekle(self, idx: str, ad: str, hat: str) -> None:\n",
        "        if id not in self.istasyonlar:\n",
        "            istasyon = Istasyon(idx, ad, hat)\n",
        "            self.istasyonlar[idx] = istasyon\n",
        "            self.hatlar[hat].append(istasyon)\n",
        "\n",
        "    def baglanti_ekle(self, istasyon1_id: str, istasyon2_id: str, sure: int) -> None:\n",
        "        istasyon1 = self.istasyonlar[istasyon1_id]\n",
        "        istasyon2 = self.istasyonlar[istasyon2_id]\n",
        "        istasyon1.komsu_ekle(istasyon2, sure)\n",
        "        istasyon2.komsu_ekle(istasyon1, sure)"
      ],
      "metadata": {
        "id": "yLO10fRmYg3R"
      },
      "execution_count": 84,
      "outputs": []
    },
    {
      "cell_type": "markdown",
      "source": [
        "istastyon_ekle komutu yeni bir istasyon ekler ve baglanti_ekle komutu ile iki istasyon arasına bağlantı eklenir."
      ],
      "metadata": {
        "id": "98ZKBwr2Y4Qn"
      }
    },
    {
      "cell_type": "code",
      "source": [
        " def en_az_aktarma_bul(self, baslangic_id: str, hedef_id: str) -> Optional[List[Istasyon]]:\n",
        "        if baslangic_id not in self.istasyonlar or hedef_id not in self.istasyonlar:\n",
        "            return None\n",
        "\n",
        "        baslangic = self.istasyonlar[baslangic_id]\n",
        "        hedef = self.istasyonlar[hedef_id]\n",
        "        kuyruk = deque([(baslangic, [baslangic])])\n",
        "        ziyaret_edildi = set()\n",
        "\n",
        "        while kuyruk:\n",
        "            mevcut, rota = kuyruk.popleft()\n",
        "            if mevcut == hedef:\n",
        "                return rota\n",
        "\n",
        "            ziyaret_edildi.add(mevcut)\n",
        "            for komsu, _ in mevcut.komsular:\n",
        "                if komsu not in ziyaret_edildi:\n",
        "                    kuyruk.append((komsu, rota + [komsu]))\n",
        "                    ziyaret_edildi.add(komsu)\n",
        "\n",
        "        return None\n",
        "        if baslangic_id not in self.istasyonlar or hedef_id not in self.istasyonlar:\n",
        "            return None\n",
        "        baslangic = self.istasyonlar[baslangic_id]\n",
        "        hedef = self.istasyonlar[hedef_id]\n",
        "        ziyaret_edildi = {baslangic}"
      ],
      "metadata": {
        "id": "ySWjHCYvZ7Pv"
      },
      "execution_count": 85,
      "outputs": []
    },
    {
      "cell_type": "markdown",
      "source": [
        " BFS algoritması kullanarak en az aktarmalı rotayı buluruz. A* algoritması kullanarak en hızlı rotayı buluruz."
      ],
      "metadata": {
        "id": "DaHxZm92aMIg"
      }
    },
    {
      "cell_type": "code",
      "source": [
        "    def en_hizli_rota_bul(self, baslangic_id: str, hedef_id: str) -> Optional[Tuple[List[Istasyon], int]]:\n",
        "        if baslangic_id not in self.istasyonlar or hedef_id not in self.istasyonlar:\n",
        "            return None\n",
        "\n",
        "        baslangic = self.istasyonlar[baslangic_id]\n",
        "        hedef = self.istasyonlar[hedef_id]\n",
        "        pq = [(0, id(baslangic), baslangic, [baslangic])]\n",
        "        ziyaret_edildi = {}\n",
        "\n",
        "        while pq:\n",
        "            toplam_sure, _, mevcut, rota = heapq.heappop(pq)\n",
        "\n",
        "            if mevcut == hedef:\n",
        "                return rota, toplam_sure\n",
        "\n",
        "            if mevcut in ziyaret_edildi and ziyaret_edildi[mevcut] <= toplam_sure:\n",
        "                continue\n",
        "            ziyaret_edildi[mevcut] = toplam_sure\n",
        "\n",
        "            for komsu, sure in mevcut.komsular:\n",
        "                yeni_sure = toplam_sure + sure\n",
        "                heapq.heappush(pq, (yeni_sure, id(komsu), komsu, rota + [komsu]))\n",
        "\n",
        "        return None\n",
        "\n",
        "        if baslangic_id not in self.istasyonlar or hedef_id not in self.istasyonlar:\n",
        "            return None\n",
        "\n",
        "        baslangic = self.istasyonlar[baslangic_id]\n",
        "        hedef = self.istasyonlar[hedef_id]\n",
        "        ziyaret_edildi = set()"
      ],
      "metadata": {
        "id": "_PCyeNY7ba2X"
      },
      "execution_count": 90,
      "outputs": []
    },
    {
      "cell_type": "code",
      "source": [
        "if __name__ == \"__main__\":\n",
        "    metro = MetroAgi()\n",
        "\n",
        "    # İstasyonlar ekleme\n",
        "    # Kırmızı Hat\n",
        "    metro.istasyon_ekle(\"K1\", \"Kızılay\", \"Kırmızı Hat\")\n",
        "    metro.istasyon_ekle(\"K2\", \"Ulus\", \"Kırmızı Hat\")\n",
        "    metro.istasyon_ekle(\"K3\", \"Demetevler\", \"Kırmızı Hat\")\n",
        "    metro.istasyon_ekle(\"K4\", \"OSB\", \"Kırmızı Hat\")\n",
        "\n",
        "    # Mavi Hat\n",
        "    metro.istasyon_ekle(\"M1\", \"AŞTİ\", \"Mavi Hat\")\n",
        "    metro.istasyon_ekle(\"M2\", \"Kızılay\", \"Mavi Hat\")  # Aktarma noktası\n",
        "    metro.istasyon_ekle(\"M3\", \"Sıhhiye\", \"Mavi Hat\")\n",
        "    metro.istasyon_ekle(\"M4\", \"Gar\", \"Mavi Hat\")\n",
        "\n",
        "    # Turuncu Hat\n",
        "    metro.istasyon_ekle(\"T1\", \"Batıkent\", \"Turuncu Hat\")\n",
        "    metro.istasyon_ekle(\"T2\", \"Demetevler\", \"Turuncu Hat\")  # Aktarma noktası\n",
        "    metro.istasyon_ekle(\"T3\", \"Gar\", \"Turuncu Hat\")  # Aktarma noktası\n",
        "    metro.istasyon_ekle(\"T4\", \"Keçiören\", \"Turuncu Hat\")\n",
        "\n",
        "    # Bağlantılar ekleme\n",
        "    # Kırmızı Hat bağlantıları\n",
        "    metro.baglanti_ekle(\"K1\", \"K2\", 4)  # Kızılay -> Ulus\n",
        "    metro.baglanti_ekle(\"K2\", \"K3\", 6)  # Ulus -> Demetevler\n",
        "    metro.baglanti_ekle(\"K3\", \"K4\", 8)  # Demetevler -> OSB\n",
        "\n",
        "    # Mavi Hat bağlantıları\n",
        "    metro.baglanti_ekle(\"M1\", \"M2\", 5)  # AŞTİ -> Kızılay\n",
        "    metro.baglanti_ekle(\"M2\", \"M3\", 3)  # Kızılay -> Sıhhiye\n",
        "    metro.baglanti_ekle(\"M3\", \"M4\", 4)  # Sıhhiye -> Gar\n",
        "\n",
        "    # Turuncu Hat bağlantıları\n",
        "    metro.baglanti_ekle(\"T1\", \"T2\", 7)  # Batıkent -> Demetevler\n",
        "    metro.baglanti_ekle(\"T2\", \"T3\", 9)  # Demetevler -> Gar\n",
        "    metro.baglanti_ekle(\"T3\", \"T4\", 5)  # Gar -> Keçiören\n",
        "\n",
        "    # Hat aktarma bağlantıları (aynı istasyon farklı hatlar)\n",
        "    metro.baglanti_ekle(\"K1\", \"M2\", 2)  # Kızılay aktarma\n",
        "    metro.baglanti_ekle(\"K3\", \"T2\", 3)  # Demetevler aktarma\n",
        "    metro.baglanti_ekle(\"M4\", \"T3\", 2)  # Gar aktarma"
      ],
      "metadata": {
        "id": "PwPJCFV-bct_"
      },
      "execution_count": 100,
      "outputs": []
    }
  ]
}